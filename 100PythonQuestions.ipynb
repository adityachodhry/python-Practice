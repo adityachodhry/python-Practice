{
 "cells": [
  {
   "cell_type": "code",
   "execution_count": 1,
   "id": "e81befc5-96a2-4f77-9798-af27b23e8dcf",
   "metadata": {},
   "outputs": [
    {
     "name": "stdout",
     "output_type": "stream",
     "text": [
      "Enter First Age  10\n",
      "Enter Second Age  10\n",
      "Enter Third Age  10\n"
     ]
    },
    {
     "name": "stdout",
     "output_type": "stream",
     "text": [
      "The oldest age is: 10\n"
     ]
    }
   ],
   "source": [
    "# 1. User will input (3ages).Find the oldest one\n",
    "\n",
    "age1 = int(input(\"Enter First Age \"))\n",
    "age2 = int(input(\"Enter Second Age \"))\n",
    "age3 = int(input(\"Enter Third Age \"))\n",
    "\n",
    "oldest_age = max(age1, age2, age3)\n",
    "\n",
    "print(\"The oldest age is:\", oldest_age)"
   ]
  },
  {
   "cell_type": "code",
   "execution_count": 2,
   "id": "5844d306-b414-4f72-a220-4b524dafc8e8",
   "metadata": {},
   "outputs": [
    {
     "name": "stdout",
     "output_type": "stream",
     "text": [
      "Enter temperature in Celsius:  25\n"
     ]
    },
    {
     "name": "stdout",
     "output_type": "stream",
     "text": [
      "The temperature in Fahrenheit is: 77.0°F\n"
     ]
    }
   ],
   "source": [
    "# 2. Write a program that will convert celsius value to fahrenheit\n",
    "\n",
    "celsius = float(input(\"Enter temperature in Celsius: \"))\n",
    "fahrenheit = (celsius * 9/5) + 32\n",
    "\n",
    "print(f\"The temperature in Fahrenheit is: {fahrenheit}°F\")"
   ]
  },
  {
   "cell_type": "code",
   "execution_count": 3,
   "id": "11b2db03-70e2-470e-8453-5f8bf47f818c",
   "metadata": {},
   "outputs": [
    {
     "name": "stdout",
     "output_type": "stream",
     "text": [
      "Enter first number:  10\n",
      "Enter second number:  30\n"
     ]
    },
    {
     "name": "stdout",
     "output_type": "stream",
     "text": [
      "After swapping:\n",
      "First number: 30\n",
      "Second number: 10\n"
     ]
    }
   ],
   "source": [
    "# 3. User will input (2numbers).Write a program to swap the numbers\n",
    "\n",
    "num1 = int(input(\"Enter first number: \"))\n",
    "num2 = int(input(\"Enter second number: \"))\n",
    "\n",
    "# Swapping numbers\n",
    "num1, num2 = num2, num1\n",
    "\n",
    "print(\"After swapping:\")\n",
    "print(\"First number:\", num1)\n",
    "print(\"Second number:\", num2)"
   ]
  },
  {
   "cell_type": "code",
   "execution_count": 4,
   "id": "3d8bff4a-eba5-4410-8362-d711f7c5c9fd",
   "metadata": {},
   "outputs": [
    {
     "name": "stdout",
     "output_type": "stream",
     "text": [
      "Enter first number:  25\n"
     ]
    },
    {
     "name": "stdout",
     "output_type": "stream",
     "text": [
      "Sum of the digits: 7\n"
     ]
    }
   ],
   "source": [
    "# 4. Write a program that will give you the sum of 3 digits\n",
    "\n",
    "num1 = int(input(\"Enter first number: \"))\n",
    "\n",
    "# Extracting last digit\n",
    "last_digit = num1 % 10\n",
    "\n",
    "# Extracting second last digit\n",
    "second_last_digit = (num1 // 10) % 10\n",
    "\n",
    "# Extracting first digit\n",
    "first_digit = num1 // 100\n",
    "\n",
    "# Calculating sum\n",
    "sum_of_digits = first_digit + second_last_digit + last_digit\n",
    "\n",
    "print(\"Sum of the digits:\", sum_of_digits)"
   ]
  },
  {
   "cell_type": "code",
   "execution_count": 13,
   "id": "08f9e033-66a1-4214-a778-30925858c207",
   "metadata": {},
   "outputs": [
    {
     "name": "stdout",
     "output_type": "stream",
     "text": [
      "[1, 2, 3, 4, 5, 6, 7, 8, 9, 10]\n",
      "1\n"
     ]
    }
   ],
   "source": [
    "# 5. Python program to find the maximum number in a list without using any built-in function or library:\n",
    "\n",
    "ls =[1,2,3,4,5,6,7,8,9,10]\n",
    "\n",
    "max_num = ls[0]\n",
    "\n",
    "for num in ls:\n",
    "    if num > max_num:\n",
    "        max_num = num\n",
    "print(ls)\n",
    "print(max_num)\n",
    "\n",
    "# # min number \n",
    "# for num in ls:\n",
    "#     if num < max_num:\n",
    "#         max_num = num\n",
    "# print(ls)\n",
    "# print(max_num)\n",
    "\n",
    "# # Find Maximum & Minimum Elements in an Array\n",
    "# arr = [50,20,30,5]\n",
    "\n",
    "# # Using min and max method\n",
    "# print(min(arr))\n",
    "# print(max(arr))"
   ]
  },
  {
   "cell_type": "code",
   "execution_count": 1,
   "id": "6050d052-b63b-41f0-9787-4589bc68389d",
   "metadata": {},
   "outputs": [
    {
     "name": "stdout",
     "output_type": "stream",
     "text": [
      "Enter first numbers  5\n",
      "Enter second number  3\n"
     ]
    },
    {
     "name": "stdout",
     "output_type": "stream",
     "text": [
      "3\n",
      "5\n"
     ]
    }
   ],
   "source": [
    "# To Swap 2 Numbers \n",
    "num1 = int(input(\"Enter first numbers \"))\n",
    "num2 = int(input(\"Enter second number \"))\n",
    "\n",
    "num1,num2 = num2,num1\n",
    "print(num1)\n",
    "print(num2)"
   ]
  },
  {
   "cell_type": "code",
   "execution_count": 5,
   "id": "fc3221b0-ba69-4198-973d-5303a6708868",
   "metadata": {},
   "outputs": [
    {
     "name": "stdout",
     "output_type": "stream",
     "text": [
      "Enter number  5\n"
     ]
    },
    {
     "name": "stdout",
     "output_type": "stream",
     "text": [
      "Number is Prime Number\n"
     ]
    }
   ],
   "source": [
    "# To Check A Number is Prime Or Not\n",
    "num = int(input(\"Enter number \"))\n",
    "count = 0\n",
    "\n",
    "if num>1:\n",
    "    for i in range(1, num+1):\n",
    "        if (num%i) == 0:\n",
    "            count = count+1\n",
    "    if count == 2:\n",
    "        print(\"Number is Prime Number\")\n",
    "    else:\n",
    "        print(\"Number is not prime number\")\n",
    "            "
   ]
  },
  {
   "cell_type": "code",
   "execution_count": 8,
   "id": "d2c332db",
   "metadata": {},
   "outputs": [
    {
     "name": "stdout",
     "output_type": "stream",
     "text": [
      "Enter number  10\n"
     ]
    },
    {
     "name": "stdout",
     "output_type": "stream",
     "text": [
      "3628800\n"
     ]
    }
   ],
   "source": [
    "# To Find Factorial of A Number\n",
    "num = int(input(\"Enter number \"))\n",
    "factorial = 1\n",
    "\n",
    "for i in range (1, num+1):\n",
    "    factorial = factorial*i\n",
    "print(factorial)"
   ]
  },
  {
   "cell_type": "code",
   "execution_count": 11,
   "id": "59e05c5f-93ad-43d8-84e1-ce5fa0c68521",
   "metadata": {},
   "outputs": [
    {
     "name": "stdout",
     "output_type": "stream",
     "text": [
      "60\n"
     ]
    }
   ],
   "source": [
    "# Find Sum Of Elements in an Array\n",
    "arr = [10,20,30]\n",
    "\n",
    "result = sum(arr)\n",
    "print(result)\n"
   ]
  },
  {
   "cell_type": "code",
   "execution_count": 16,
   "id": "44f7efd4-9eea-497d-84c6-327eed9ef52b",
   "metadata": {},
   "outputs": [
    {
     "name": "stdout",
     "output_type": "stream",
     "text": [
      "4\n"
     ]
    }
   ],
   "source": [
    "# To Find Length of a List\n",
    "ls = [10,20,4,8]\n",
    "\n",
    "# # Using len() method \n",
    "# print(len(ls))\n",
    "\n",
    "count = 0\n",
    "\n",
    "for i in ls:\n",
    "    count = count+1\n",
    "print(count)"
   ]
  },
  {
   "cell_type": "code",
   "execution_count": 22,
   "id": "8b3d33fc-83c0-4ab7-a7f0-d467f9272993",
   "metadata": {},
   "outputs": [
    {
     "name": "stdout",
     "output_type": "stream",
     "text": [
      "Original List: [10, 20, 4, 8]\n",
      "List after swapping first and last elements: [8, 20, 4, 10]\n"
     ]
    }
   ],
   "source": [
    "# Define the list\n",
    "ls = [10, 20, 4, 8]\n",
    "\n",
    "# Print original list\n",
    "print(\"Original List:\", ls)\n",
    "\n",
    "# Swap the first and last elements\n",
    "ls[0], ls[-1] = ls[-1], ls[0]\n",
    "\n",
    "# Print the updated list\n",
    "print(\"List after swapping first and last elements:\", ls)\n"
   ]
  },
  {
   "cell_type": "code",
   "execution_count": null,
   "id": "57cc42d1-3a5e-49a7-9a2a-aff275850950",
   "metadata": {},
   "outputs": [],
   "source": []
  },
  {
   "cell_type": "code",
   "execution_count": null,
   "id": "7815933d",
   "metadata": {},
   "outputs": [],
   "source": []
  },
  {
   "cell_type": "code",
   "execution_count": null,
   "id": "e7168826",
   "metadata": {},
   "outputs": [],
   "source": []
  }
 ],
 "metadata": {
  "kernelspec": {
   "display_name": "Python 3 (ipykernel)",
   "language": "python",
   "name": "python3"
  },
  "language_info": {
   "codemirror_mode": {
    "name": "ipython",
    "version": 3
   },
   "file_extension": ".py",
   "mimetype": "text/x-python",
   "name": "python",
   "nbconvert_exporter": "python",
   "pygments_lexer": "ipython3",
   "version": "3.13.1"
  }
 },
 "nbformat": 4,
 "nbformat_minor": 5
}
