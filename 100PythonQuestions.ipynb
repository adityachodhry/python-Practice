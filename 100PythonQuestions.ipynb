{
 "cells": [
  {
   "cell_type": "code",
   "execution_count": 1,
   "id": "e81befc5-96a2-4f77-9798-af27b23e8dcf",
   "metadata": {},
   "outputs": [
    {
     "name": "stdout",
     "output_type": "stream",
     "text": [
      "Enter First Age  10\n",
      "Enter Second Age  10\n",
      "Enter Third Age  10\n"
     ]
    },
    {
     "name": "stdout",
     "output_type": "stream",
     "text": [
      "The oldest age is: 10\n"
     ]
    }
   ],
   "source": [
    "# 1. User will input (3ages).Find the oldest one\n",
    "\n",
    "age1 = int(input(\"Enter First Age \"))\n",
    "age2 = int(input(\"Enter Second Age \"))\n",
    "age3 = int(input(\"Enter Third Age \"))\n",
    "\n",
    "oldest_age = max(age1, age2, age3)\n",
    "\n",
    "print(\"The oldest age is:\", oldest_age)"
   ]
  },
  {
   "cell_type": "code",
   "execution_count": 2,
   "id": "5844d306-b414-4f72-a220-4b524dafc8e8",
   "metadata": {},
   "outputs": [
    {
     "name": "stdout",
     "output_type": "stream",
     "text": [
      "Enter temperature in Celsius:  25\n"
     ]
    },
    {
     "name": "stdout",
     "output_type": "stream",
     "text": [
      "The temperature in Fahrenheit is: 77.0°F\n"
     ]
    }
   ],
   "source": [
    "# 2. Write a program that will convert celsius value to fahrenheit\n",
    "\n",
    "celsius = float(input(\"Enter temperature in Celsius: \"))\n",
    "fahrenheit = (celsius * 9/5) + 32\n",
    "\n",
    "print(f\"The temperature in Fahrenheit is: {fahrenheit}°F\")"
   ]
  },
  {
   "cell_type": "code",
   "execution_count": 3,
   "id": "11b2db03-70e2-470e-8453-5f8bf47f818c",
   "metadata": {},
   "outputs": [
    {
     "name": "stdout",
     "output_type": "stream",
     "text": [
      "Enter first number:  10\n",
      "Enter second number:  30\n"
     ]
    },
    {
     "name": "stdout",
     "output_type": "stream",
     "text": [
      "After swapping:\n",
      "First number: 30\n",
      "Second number: 10\n"
     ]
    }
   ],
   "source": [
    "# 3. User will input (2numbers).Write a program to swap the numbers\n",
    "\n",
    "num1 = int(input(\"Enter first number: \"))\n",
    "num2 = int(input(\"Enter second number: \"))\n",
    "\n",
    "# Swapping numbers\n",
    "num1, num2 = num2, num1\n",
    "\n",
    "print(\"After swapping:\")\n",
    "print(\"First number:\", num1)\n",
    "print(\"Second number:\", num2)"
   ]
  },
  {
   "cell_type": "code",
   "execution_count": null,
   "id": "3d8bff4a-eba5-4410-8362-d711f7c5c9fd",
   "metadata": {},
   "outputs": [
    {
     "name": "stdout",
     "output_type": "stream",
     "text": [
      "Enter first number:  25\n"
     ]
    },
    {
     "name": "stdout",
     "output_type": "stream",
     "text": [
      "Sum of the digits: 7\n"
     ]
    }
   ],
   "source": [
    "# 4. Write a program that will give you the sum of 3 digits\n",
    "\n",
    "num1 = int(input(\"Enter first number: \"))\n",
    "\n",
    "# Extracting last digit\n",
    "last_digit = num1 % 10\n",
    "\n",
    "# Extracting second last digit\n",
    "second_last_digit = (num1 // 10) % 10\n",
    "\n",
    "# Extracting first digit\n",
    "first_digit = num1 // 100\n",
    "\n",
    "\n",
    "# Calculating sum\n",
    "sum_of_digits = first_digit + second_last_digit + last_digit\n",
    "\n",
    "print(\"Sum of the digits:\", sum_of_digits)"
   ]
  },
  {
   "cell_type": "code",
   "execution_count": 13,
   "id": "08f9e033-66a1-4214-a778-30925858c207",
   "metadata": {},
   "outputs": [
    {
     "name": "stdout",
     "output_type": "stream",
     "text": [
      "[1, 2, 3, 4, 5, 6, 7, 8, 9, 10]\n",
      "1\n"
     ]
    }
   ],
   "source": [
    "# 5. Python program to find the maximum number in a list without using any built-in function or library:\n",
    "\n",
    "ls =[1,2,3,4,5,6,7,8,9,10]\n",
    "\n",
    "max_num = ls[0]\n",
    "\n",
    "for num in ls:\n",
    "    if num > max_num:\n",
    "        max_num = num\n",
    "print(ls)\n",
    "print(max_num)\n",
    "\n",
    "# # min number \n",
    "# for num in ls:\n",
    "#     if num < max_num:\n",
    "#         max_num = num\n",
    "# print(ls)\n",
    "# print(max_num)\n",
    "\n",
    "# # Find Maximum & Minimum Elements in an Array\n",
    "# arr = [50,20,30,5]\n",
    "\n",
    "# # Using min and max method\n",
    "# print(min(arr))\n",
    "# print(max(arr))"
   ]
  },
  {
   "cell_type": "code",
   "execution_count": 1,
   "id": "6050d052-b63b-41f0-9787-4589bc68389d",
   "metadata": {},
   "outputs": [
    {
     "name": "stdout",
     "output_type": "stream",
     "text": [
      "Enter first numbers  5\n",
      "Enter second number  3\n"
     ]
    },
    {
     "name": "stdout",
     "output_type": "stream",
     "text": [
      "3\n",
      "5\n"
     ]
    }
   ],
   "source": [
    "# To Swap 2 Numbers \n",
    "num1 = int(input(\"Enter first numbers \"))\n",
    "num2 = int(input(\"Enter second number \"))\n",
    "\n",
    "num1,num2 = num2,num1\n",
    "print(num1)\n",
    "print(num2)"
   ]
  },
  {
   "cell_type": "code",
   "execution_count": null,
   "id": "fc3221b0-ba69-4198-973d-5303a6708868",
   "metadata": {},
   "outputs": [
    {
     "name": "stdout",
     "output_type": "stream",
     "text": [
      "Enter number  5\n"
     ]
    },
    {
     "name": "stdout",
     "output_type": "stream",
     "text": [
      "Number is Prime Number\n"
     ]
    }
   ],
   "source": [
    "# To Check A Number is Prime Or Not\n",
    "num = int(input(\"Enter number \"))\n",
    "count = 0\n",
    "\n",
    "if num>1:\n",
    "    for i in range(1, num+1):\n",
    "        if (num%i) == 0:\n",
    "            count = count+1\n",
    "    if count == 2:\n",
    "        print(\"Number is Prime Number\")\n",
    "    else:\n",
    "        print(\"Number is not prime number\")"
   ]
  },
  {
   "cell_type": "code",
   "execution_count": 8,
   "id": "d2c332db",
   "metadata": {},
   "outputs": [
    {
     "name": "stdout",
     "output_type": "stream",
     "text": [
      "Enter number  10\n"
     ]
    },
    {
     "name": "stdout",
     "output_type": "stream",
     "text": [
      "3628800\n"
     ]
    }
   ],
   "source": [
    "# To Find Factorial of A Number\n",
    "num = int(input(\"Enter number \"))\n",
    "factorial = 1\n",
    "\n",
    "for i in range (1, num+1):\n",
    "    factorial = factorial*i\n",
    "print(factorial)"
   ]
  },
  {
   "cell_type": "code",
   "execution_count": null,
   "id": "59e05c5f-93ad-43d8-84e1-ce5fa0c68521",
   "metadata": {},
   "outputs": [
    {
     "name": "stdout",
     "output_type": "stream",
     "text": [
      "60\n"
     ]
    }
   ],
   "source": [
    "# Find Sum Of Elements in an Array\n",
    "arr = [10,20,30]\n",
    "\n",
    "result = sum(arr)\n",
    "print(result)"
   ]
  },
  {
   "cell_type": "code",
   "execution_count": 16,
   "id": "44f7efd4-9eea-497d-84c6-327eed9ef52b",
   "metadata": {},
   "outputs": [
    {
     "name": "stdout",
     "output_type": "stream",
     "text": [
      "4\n"
     ]
    }
   ],
   "source": [
    "# To Find Length of a List\n",
    "ls = [10,20,4,8]\n",
    "\n",
    "# # Using len() method \n",
    "# print(len(ls))\n",
    "\n",
    "count = 0\n",
    "\n",
    "for i in ls:\n",
    "    count = count+1\n",
    "print(count)"
   ]
  },
  {
   "cell_type": "code",
   "execution_count": null,
   "id": "8b3d33fc-83c0-4ab7-a7f0-d467f9272993",
   "metadata": {},
   "outputs": [
    {
     "name": "stdout",
     "output_type": "stream",
     "text": [
      "Original List: [10, 20, 4, 8]\n",
      "List after swapping first and last elements: [8, 20, 4, 10]\n"
     ]
    }
   ],
   "source": [
    "# Define the list\n",
    "ls = [10, 20, 4, 8]\n",
    "\n",
    "# Print original list\n",
    "print(\"Original List:\", ls)\n",
    "\n",
    "# Swap the first and last elements\n",
    "ls[0], ls[-1] = ls[-1], ls[0]\n",
    "\n",
    "# Print the updated list\n",
    "print(\"List after swapping first and last elements:\", ls)"
   ]
  },
  {
   "cell_type": "code",
   "execution_count": null,
   "id": "57cc42d1-3a5e-49a7-9a2a-aff275850950",
   "metadata": {},
   "outputs": [
    {
     "name": "stdout",
     "output_type": "stream",
     "text": [
      "Given element is found\n"
     ]
    }
   ],
   "source": [
    "# Define the list and the element to search\n",
    "ls = [10, 30, 9, 5]\n",
    "ele = 9\n",
    "\n",
    "# Flag to track if the element is found\n",
    "found = False\n",
    "\n",
    "# Iterate through the list to search for the element\n",
    "for i in ls:\n",
    "    if i == ele:\n",
    "        found = True\n",
    "        break  # Exit the loop once the element is found\n",
    "\n",
    "# Check if the element was found\n",
    "if found:\n",
    "    print(\"Given element is found\")\n",
    "else:\n",
    "    print(\"Given element is not found\")"
   ]
  },
  {
   "cell_type": "code",
   "execution_count": 16,
   "id": "bfd166a9-1718-4f2a-b3f6-15c8d52f61bf",
   "metadata": {},
   "outputs": [
    {
     "name": "stdout",
     "output_type": "stream",
     "text": [
      "3\n"
     ]
    }
   ],
   "source": [
    "# Count Occurrences of an element in a list\n",
    "ls = [10, 30, 9, 5, 10, 10]\n",
    "x = 10\n",
    "count = 0\n",
    "\n",
    "for i in ls:\n",
    "    if i==x:\n",
    "        count = count+1\n",
    "print(count)\n",
    "\n",
    "# # Another method to solve \n",
    "# print(ls.count(x))"
   ]
  },
  {
   "cell_type": "code",
   "execution_count": 19,
   "id": "529bbedc-bce6-480f-bab1-9e52be76db53",
   "metadata": {},
   "outputs": [
    {
     "name": "stdout",
     "output_type": "stream",
     "text": [
      "74\n"
     ]
    }
   ],
   "source": [
    "# Sum of Elements in the List\n",
    "ls = [10, 30, 9, 5, 10, 10]\n",
    "\n",
    "# Using sum() method\n",
    "# print(sum(ls))\n",
    "\n",
    "total = 0 \n",
    "for i in range (0,len(ls)):\n",
    "    total = total + ls[i]\n",
    "print(total)"
   ]
  },
  {
   "cell_type": "code",
   "execution_count": 20,
   "id": "fd2aff8c-2239-45a3-94fe-5d3681a69735",
   "metadata": {},
   "outputs": [
    {
     "name": "stdout",
     "output_type": "stream",
     "text": [
      "13500\n"
     ]
    }
   ],
   "source": [
    "# Multiply All Numbers in the List\n",
    "ls = [10, 30, 9, 5]\n",
    "result = 1\n",
    "\n",
    "for i in ls:\n",
    "    result = result * i\n",
    "print(result)"
   ]
  },
  {
   "cell_type": "code",
   "execution_count": 25,
   "id": "1cfa2e2b-7e2c-4873-965f-c13c4254f012",
   "metadata": {},
   "outputs": [
    {
     "name": "stdout",
     "output_type": "stream",
     "text": [
      "To Reverse Words in a String\n",
      "['To', 'Reverse', 'Words', 'in', 'a', 'String']\n",
      "['String', 'a', 'in', 'Words', 'Reverse', 'To']\n",
      "String a in Words Reverse To\n"
     ]
    }
   ],
   "source": [
    "# To Reverse Words in a String\n",
    "text = \"To Reverse Words in a String\"\n",
    "print(text)\n",
    "word = text.split(' ')\n",
    "print(word)\n",
    "\n",
    "ls = word[::-1]\n",
    "print(ls)\n",
    "print(' '.join(ls))"
   ]
  },
  {
   "cell_type": "code",
   "execution_count": 36,
   "id": "a4cf478b-6e7c-4007-abe6-62c1b5d45d05",
   "metadata": {},
   "outputs": [
    {
     "name": "stdout",
     "output_type": "stream",
     "text": [
      "Find Sub string Presence in a String\n",
      "String found\n"
     ]
    }
   ],
   "source": [
    "# Find Sub string Presence in a String\n",
    "text = \"Find Sub string Presence in a String\"\n",
    "print(text)\n",
    "word = \"Sub\"\n",
    "\n",
    "# Using find() method \n",
    "result = text.find(word)\n",
    "\n",
    "if result == -1:\n",
    "    print(\"String not found\")\n",
    "else:\n",
    "    print(\"String found\")"
   ]
  },
  {
   "cell_type": "code",
   "execution_count": 42,
   "id": "99dc1aa5-ad6d-449d-b6df-6982b1f21def",
   "metadata": {},
   "outputs": [
    {
     "name": "stdout",
     "output_type": "stream",
     "text": [
      "The string contains special characters.\n"
     ]
    }
   ],
   "source": [
    "# Check if a string contains any special character\n",
    "text = \"Hello@Aditya!\"\n",
    "\n",
    "# Define special characters\n",
    "special_characters = \"!@#$%^&*()_+-=[]{}|;:',.<>?/\"\n",
    "\n",
    "# Flag to track if special characters are found\n",
    "contains_special = False\n",
    "\n",
    "# Check each character in the string\n",
    "for char in text:\n",
    "    if char in special_characters:\n",
    "        contains_special = True\n",
    "        break\n",
    "\n",
    "# Output the result\n",
    "if contains_special:\n",
    "    print(\"The string contains special characters.\")\n",
    "else:\n",
    "    print(\"The string does not contain special characters.\")"
   ]
  },
  {
   "cell_type": "code",
   "execution_count": 43,
   "id": "1ad87b84-c7d8-4fff-b33b-ebc30229db27",
   "metadata": {},
   "outputs": [
    {
     "name": "stdout",
     "output_type": "stream",
     "text": [
      "URLs found: ['https://example.com', 'http://blog.example.com!']\n"
     ]
    }
   ],
   "source": [
    "# Check for URL in a String\n",
    "import re\n",
    "\n",
    "# Input string\n",
    "text = \"Check out my blog at https://example.com or http://blog.example.com!\"\n",
    "\n",
    "# Regular expression to match URLs\n",
    "url_pattern = r\"https?://[^\\s]+\"\n",
    "\n",
    "# Search for URLs in the string\n",
    "urls = re.findall(url_pattern, text)\n",
    "\n",
    "# Check if any URLs are found\n",
    "if urls:\n",
    "    print(\"URLs found:\", urls)\n",
    "else:\n",
    "    print(\"No URLs found.\")\n"
   ]
  },
  {
   "cell_type": "code",
   "execution_count": 4,
   "id": "400303ef-6c6b-4457-a617-6cef307f7780",
   "metadata": {},
   "outputs": [
    {
     "name": "stdout",
     "output_type": "stream",
     "text": [
      "Enter the first coordinate (x1, y1):  5 8\n",
      "Enter the second coordinate (x2, y2):  3 9\n"
     ]
    },
    {
     "name": "stdout",
     "output_type": "stream",
     "text": [
      "The Euclidean distance between (5.0, 8.0) and (3.0, 9.0) is: 2.24\n"
     ]
    }
   ],
   "source": [
    "# Write a program to find the euclidean distance between two coordinates.\n",
    "x1, y1 = map(float, input(\"Enter the first coordinate (x1, y1): \").split())\n",
    "x2, y2 = map(float, input(\"Enter the second coordinate (x2, y2): \").split())\n",
    "\n",
    "# Calculate the square of differences\n",
    "x_diff = (x2 - x1) * (x2 - x1)\n",
    "y_diff = (y2 - y1) * (y2 - y1)\n",
    "\n",
    "# Calculate the square root manually\n",
    "distance = (x_diff + y_diff) ** 0.5\n",
    "\n",
    "# Print the result\n",
    "print(f\"The Euclidean distance between ({x1}, {y1}) and ({x2}, {y2}) is: {distance:.2f}\")\n"
   ]
  },
  {
   "cell_type": "code",
   "execution_count": 7,
   "id": "d132512d-eeb7-443f-879a-cb667bdbc3e9",
   "metadata": {},
   "outputs": [
    {
     "name": "stdout",
     "output_type": "stream",
     "text": [
      "Enter the first angle:  5.5\n",
      "Enter the second angle:  4.4\n",
      "Enter the third angle:  6.6\n"
     ]
    },
    {
     "name": "stdout",
     "output_type": "stream",
     "text": [
      "The angles cannot form a triangle.\n"
     ]
    }
   ],
   "source": [
    "# Write a program that take a user inputr of three angles and will find out whether it can form a triangle or not.\n",
    "\n",
    "angle1 = float(input(\"Enter the first angle: \"))\n",
    "angle2 = float(input(\"Enter the second angle: \"))\n",
    "angle3 = float(input(\"Enter the third angle: \"))\n",
    "\n",
    "# Check if the angles form a triangle\n",
    "if angle1 > 0 and angle2 > 0 and angle3 > 0 and (angle1 + angle2 + angle3) == 180:\n",
    "    print(\"The angles can form a triangle.\")\n",
    "else:\n",
    "    print(\"The angles cannot form a triangle.\")\n"
   ]
  },
  {
   "cell_type": "code",
   "execution_count": 9,
   "id": "e99f502c-8bff-48de-8936-c97a49b20d17",
   "metadata": {},
   "outputs": [
    {
     "name": "stdout",
     "output_type": "stream",
     "text": [
      "Enter the cost price:  100\n",
      "Enter the selling price:  99\n"
     ]
    },
    {
     "name": "stdout",
     "output_type": "stream",
     "text": [
      "Loss of 1.00\n"
     ]
    }
   ],
   "source": [
    "# Write a program that will take user input of cost price and selling price and determines whether its a loss or a profit\n",
    "\n",
    "cost_price = float(input(\"Enter the cost price: \"))\n",
    "selling_price = float(input(\"Enter the selling price: \"))\n",
    "\n",
    "# Calculate profit or loss\n",
    "if selling_price > cost_price:\n",
    "    print(f\"Profit of {selling_price - cost_price:.2f}\")\n",
    "elif selling_price < cost_price:\n",
    "    print(f\"Loss of {cost_price - selling_price:.2f}\")\n",
    "else:\n",
    "    print(\"No profit, no loss.\")\n"
   ]
  },
  {
   "cell_type": "code",
   "execution_count": 1,
   "id": "5381df3e-0926-4592-9da0-c9a6a3ae2521",
   "metadata": {},
   "outputs": [
    {
     "name": "stdout",
     "output_type": "stream",
     "text": [
      "Enter a number:  17\n"
     ]
    },
    {
     "name": "stdout",
     "output_type": "stream",
     "text": [
      "17 prime number.\n"
     ]
    }
   ],
   "source": [
    "# Check the given number is prime or not prime\n",
    "\n",
    "num = int(input(\"Enter a number: \"))\n",
    "\n",
    "for i in range(2,num):\n",
    "    if (num%i == 0):\n",
    "        print(num, \"is not a prime number.\")\n",
    "        break\n",
    "    else:\n",
    "        print(num, \"prime number.\")\n",
    "        break"
   ]
  },
  {
   "cell_type": "code",
   "execution_count": 2,
   "id": "8c797c89",
   "metadata": {},
   "outputs": [
    {
     "name": "stdout",
     "output_type": "stream",
     "text": [
      "Enter a number:  5\n"
     ]
    },
    {
     "name": "stdout",
     "output_type": "stream",
     "text": [
      "Factorial of 5 is 120\n"
     ]
    }
   ],
   "source": [
    "# Find the factorial of the number\n",
    "\n",
    "num = int(input(\"Enter a number: \"))\n",
    "factorial = 1\n",
    "\n",
    "for i in range(1, num + 1):\n",
    "    factorial = factorial *i\n",
    "\n",
    "print(\"Factorial of\", num, \"is\", factorial)\n",
    "\n"
   ]
  },
  {
   "cell_type": "code",
   "execution_count": 3,
   "id": "d182f1de",
   "metadata": {},
   "outputs": [
    {
     "name": "stdout",
     "output_type": "stream",
     "text": [
      "Enter a string:  madam\n"
     ]
    },
    {
     "name": "stdout",
     "output_type": "stream",
     "text": [
      "madam is a palindrome.\n"
     ]
    }
   ],
   "source": [
    "# Find the paindrome of the given string \n",
    "\n",
    "string = input(\"Enter a string: \")\n",
    "\n",
    "if string == string[::-1]:\n",
    "    print(string, \"is a palindrome.\")\n",
    "else:\n",
    "    print(string, \"is not a palindrome.\")"
   ]
  },
  {
   "cell_type": "code",
   "execution_count": 4,
   "id": "92da2601",
   "metadata": {},
   "outputs": [
    {
     "name": "stdout",
     "output_type": "stream",
     "text": [
      "True\n"
     ]
    }
   ],
   "source": [
    "# program to check whether two strings are anagrams of each other\n",
    "\n",
    "def are_anagrams(str1, str2):\n",
    "    # Remove any spaces and convert strings to lowercase\n",
    "    str1 = str1.replace(\" \", \"\").lower()\n",
    "    str2 = str2.replace(\" \", \"\").lower()\n",
    "    \n",
    "    # Check if the sorted characters of both strings are the same\n",
    "    return sorted(str1) == sorted(str2)\n",
    "\n",
    "# Example usage\n",
    "string1 = \"listen\"\n",
    "string2 = \"silent\"\n",
    "\n",
    "# Check if the strings are anagrams\n",
    "result = are_anagrams(string1, string2)\n",
    "\n",
    "# Print the result\n",
    "print(result)  # Output: True"
   ]
  },
  {
   "cell_type": "code",
   "execution_count": 5,
   "id": "8503ec10",
   "metadata": {},
   "outputs": [
    {
     "name": "stdout",
     "output_type": "stream",
     "text": [
      "[1, 2, 3, 4, 5, 6]\n"
     ]
    }
   ],
   "source": [
    "# Program to remove duplicate values from a list\n",
    "\n",
    "def remove_duplicates(input_list):\n",
    "    # Use a set to remove duplicates, then convert it back to a list\n",
    "    unique_list = list(set(input_list))\n",
    "    return unique_list\n",
    "\n",
    "# Example usage\n",
    "my_list = [1, 2, 2, 3, 4, 4, 5, 5, 6]\n",
    "\n",
    "# Remove duplicates\n",
    "result = remove_duplicates(my_list)\n",
    "\n",
    "# Print the result\n",
    "print(result)  # Output: [1, 2, 3, 4, 5, 6]"
   ]
  },
  {
   "cell_type": "code",
   "execution_count": 1,
   "id": "5125ab1a-df84-4ef2-b550-32c934b2f571",
   "metadata": {},
   "outputs": [
    {
     "name": "stdout",
     "output_type": "stream",
     "text": [
      "[1, 2, 3, 4, 5]\n"
     ]
    }
   ],
   "source": [
    "# Program to remove duplicate values from a list\n",
    "\n",
    "ls = [1,2,3,4,5,5,5]\n",
    "\n",
    "unique_value = list(set(ls))\n",
    "\n",
    "result = unique_value\n",
    "print(result)"
   ]
  },
  {
   "cell_type": "code",
   "execution_count": 6,
   "id": "8bb946bd",
   "metadata": {},
   "outputs": [
    {
     "name": "stdout",
     "output_type": "stream",
     "text": [
      "[1, 2, 3, 4, 5, 6]\n"
     ]
    }
   ],
   "source": [
    "# Program to remove duplicate values from a list without using any built-in functions or libraries\n",
    "\n",
    "def remove_duplicates_preserve_order(input_list):\n",
    "    # Use dict.fromkeys() to remove duplicates while preserving order\n",
    "    unique_list = list(dict.fromkeys(input_list))\n",
    "    return unique_list\n",
    "\n",
    "# Example usage\n",
    "my_list = [1, 2, 2, 3, 4, 4, 5, 5, 6]\n",
    "\n",
    "# Remove duplicates while preserving order\n",
    "result = remove_duplicates_preserve_order(my_list)\n",
    "\n",
    "# Print the result\n",
    "print(result)  # Output: [1, 2, 3, 4, 5, 6]"
   ]
  },
  {
   "cell_type": "code",
   "execution_count": 5,
   "id": "6e23461c-d2da-4fd7-997c-99433f590946",
   "metadata": {},
   "outputs": [
    {
     "name": "stdout",
     "output_type": "stream",
     "text": [
      "Enter the string or text:  AAABCDE\n"
     ]
    },
    {
     "name": "stdout",
     "output_type": "stream",
     "text": [
      "ACBDE\n"
     ]
    }
   ],
   "source": [
    "# Program to remove duplicate values from a string or text without using any built-in functions or libraries\n",
    "\n",
    "def remove_string(input_str):\n",
    "    unique_str = list(set(input_str))\n",
    "    return \"\".join(unique_str)\n",
    "    \n",
    "\n",
    "my_str = str(input(\"Enter the string or text: \"))\n",
    "\n",
    "result = remove_string(my_str)\n",
    "\n",
    "print(result)"
   ]
  },
  {
   "cell_type": "code",
   "execution_count": 9,
   "id": "49db3fa2-4f46-4101-a0cc-7ade317bdd63",
   "metadata": {},
   "outputs": [
    {
     "name": "stdout",
     "output_type": "stream",
     "text": [
      "Enter the first anagram string:  listen\n",
      "Enter the second anagram string:  silent\n"
     ]
    },
    {
     "name": "stdout",
     "output_type": "stream",
     "text": [
      "True\n"
     ]
    }
   ],
   "source": [
    "# Find the anagram from the given inptu\n",
    "\n",
    "def find_anagram(s1,s2):\n",
    "    s1 = s1.replace(\" \", \"\").lower()\n",
    "    s2 = s2.replace(\" \", \"\").lower()\n",
    "\n",
    "    return sorted(s1) == sorted(s2)\n",
    "\n",
    "string1 = str(input(\"Enter the first anagram string: \"))\n",
    "string2 = str(input(\"Enter the second anagram string: \"))\n",
    "\n",
    "result = find_anagram(string1, string2)\n",
    "\n",
    "print(result)\n",
    "\n",
    "# input = listen\n",
    "# input = silent\n",
    "# input = hello\n",
    "# input = world"
   ]
  },
  {
   "cell_type": "code",
   "execution_count": 11,
   "id": "92f0115c-55f0-4c36-8339-83e3a2695cd5",
   "metadata": {},
   "outputs": [
    {
     "name": "stdout",
     "output_type": "stream",
     "text": [
      "{'a': 4, 'b': 2}\n",
      "{'x': 20, 'y': 10}\n"
     ]
    }
   ],
   "source": [
    "# ls = [(\"a\", 1), (\"b\", 2), (\"a\", 3)]\n",
    "\n",
    "# sorted_by_key = sorted(ls, key=lambda x: x[0])\n",
    "\n",
    "# print(sorted_by_key)\n",
    "\n",
    "\n",
    "def merge_tuples_to_dict(tuples_list):\n",
    "    merged_dict = {}\n",
    "    \n",
    "    for key, value in tuples_list:\n",
    "        merged_dict[key] = merged_dict.get(key, 0) + value  # Sum values for duplicate keys\n",
    "    \n",
    "    return merged_dict\n",
    "\n",
    "# Example 1\n",
    "input1 = [(\"a\", 1), (\"b\", 2), (\"a\", 3)]\n",
    "print(merge_tuples_to_dict(input1))  # Output: {'a': 4, 'b': 2}\n",
    "\n",
    "# Example 2\n",
    "input2 = [(\"x\", 5), (\"y\", 10), (\"x\", 15)]\n",
    "print(merge_tuples_to_dict(input2))  # Output: {'x': 20, 'y': 10}\n"
   ]
  },
  {
   "cell_type": "code",
   "execution_count": 19,
   "id": "df6f1c8c-621d-425d-bb22-2761b110b9df",
   "metadata": {},
   "outputs": [
    {
     "name": "stdout",
     "output_type": "stream",
     "text": [
      "This is the student data\n",
      "Hello Aditya Your Avg Score is: 46.666666666666664\n"
     ]
    }
   ],
   "source": [
    "# Abstraction Method \n",
    "\n",
    "class Student:\n",
    "    def __init__(self, name, marks):\n",
    "        self.name = name\n",
    "        self.marks = marks\n",
    "\n",
    "    @staticmethod\n",
    "    def get_string():\n",
    "        print(\"This is the student data\")\n",
    "\n",
    "    def get_avg(self):\n",
    "        total = 0  # Renamed sum to total\n",
    "        for i in self.marks:\n",
    "            total += i\n",
    "        print(\"Hello\", self.name, \"Your Avg Score is:\", total / len(self.marks))  # Dynamic divisor\n",
    "\n",
    "# Creating a Student instance\n",
    "s1 = Student(\"Aditya\", [50, 30, 60])\n",
    "s1.get_string()\n",
    "s1.get_avg()"
   ]
  },
  {
   "cell_type": "code",
   "execution_count": null,
   "id": "bd3d68e9-9f10-4df0-b035-b624acd51eeb",
   "metadata": {},
   "outputs": [
    {
     "name": "stdout",
     "output_type": "stream",
     "text": [
      "Hello Aditya, Your Average Score is: 46.67\n"
     ]
    }
   ],
   "source": [
    "# Abstraction Method\n",
    "\n",
    "class Student:\n",
    "    def __init__(self, name, marks):\n",
    "        self.name = name\n",
    "        self.marks = marks\n",
    "\n",
    "    def get_avg(self):\n",
    "        total = sum(self.marks)\n",
    "        avg = total / len(self.marks)  # Divide by the actual number of marks\n",
    "        print(f\"Hello {self.name}, Your Average Score is: {avg:.2f}\")  # Formatted output\n",
    "\n",
    "# Creating a Student instance\n",
    "s1 = Student(\"Aditya\", [50, 30, 60])\n",
    "s1.get_avg()  # Call the method to calculate and print the average"
   ]
  },
  {
   "cell_type": "code",
   "execution_count": null,
   "id": "206bf729-88fd-4d89-bc2a-b8a7f700cacf",
   "metadata": {},
   "outputs": [
    {
     "name": "stdout",
     "output_type": "stream",
     "text": [
      "Account No: 12345\n",
      "Initial Balance: 1000\n",
      "Rs. 5000 was credited\n",
      "Total balance: 6000\n",
      "Rs. 2000 was withdrawn\n",
      "Total balance: 4000\n"
     ]
    }
   ],
   "source": [
    "class Account:\n",
    "    def __init__(self, acc_no, bal):\n",
    "        self.acc_no = acc_no\n",
    "        self.bal = bal\n",
    "\n",
    "    def deposit(self, amount):\n",
    "        self.bal += amount  # Depositing should increase the balance\n",
    "        print(\"Rs.\", amount, \"was credited\")\n",
    "        print(\"Total balance:\", self.get_balance())\n",
    "\n",
    "    def credit(self, amount):  # Fixed spelling mistake (get_cradit → credit)\n",
    "        self.bal -= amount  # Crediting (withdrawal) should decrease the balance\n",
    "        print(\"Rs.\", amount, \"was withdrawn\")\n",
    "        print(\"Total balance:\", self.get_balance())\n",
    "\n",
    "    def get_balance(self):\n",
    "        return self.bal\n",
    "\n",
    "# Creating an account\n",
    "acc1 = Account(12345, 1000)\n",
    "\n",
    "# Printing initial details\n",
    "print(\"Account No:\", acc1.acc_no)\n",
    "print(\"Initial Balance:\", acc1.get_balance())\n",
    "\n",
    "# Performing transactions\n",
    "acc1.deposit(5000)  # Depositing money\n",
    "acc1.credit(2000)   # Withdrawing money"
   ]
  },
  {
   "cell_type": "code",
   "execution_count": 42,
   "id": "c928ea36-6800-4235-a208-f2924167f029",
   "metadata": {},
   "outputs": [
    {
     "name": "stdout",
     "output_type": "stream",
     "text": [
      "12345\n",
      "abcd\n",
      "None\n"
     ]
    }
   ],
   "source": [
    "# Encapsulation Methods\n",
    "\n",
    "class Account:\n",
    "    def __init__(self, acco_no, acco_pass):\n",
    "        self.acco_no = acco_no\n",
    "        self.__acco_pass = acco_pass\n",
    "\n",
    "    def reset_pass(self):\n",
    "        print(self.__acco_pass)\n",
    "\n",
    "acc1 = Account(12345, \"abcd\")\n",
    "print(acc1.acco_no)\n",
    "# print(acc1.__acco_pass)\n",
    "print(acc1.reset_pass())"
   ]
  },
  {
   "cell_type": "code",
   "execution_count": null,
   "id": "2d291e58-329f-4295-a1fa-fc7f09e4671a",
   "metadata": {},
   "outputs": [
    {
     "name": "stdout",
     "output_type": "stream",
     "text": [
      "Car Name: Abcd\n",
      "Car Type: Sedan\n",
      "Car Started..\n",
      "Car Stopped..\n"
     ]
    }
   ],
   "source": [
    "# inheritance methods\n",
    "\n",
    "class Car:\n",
    "    def __init__(self, car_type):\n",
    "        self.car_type = car_type\n",
    "\n",
    "    @staticmethod\n",
    "    def start_car():  # Removed 'self' parameter\n",
    "        print(\"Car Started..\")\n",
    "\n",
    "    @staticmethod\n",
    "    def end_car():  # Removed 'self' parameter\n",
    "        print(\"Car Stopped..\")\n",
    "\n",
    "class ToyotaCar(Car):\n",
    "    def __init__(self, name, car_type):\n",
    "        super().__init__(car_type)  # Call parent constructor\n",
    "        self.name = name\n",
    "\n",
    "# Creating an instance of ToyotaCar\n",
    "car1 = ToyotaCar(\"Toyata\", \"Sedan\")\n",
    "\n",
    "# Printing attributes\n",
    "print(\"Car Name:\", car1.name)\n",
    "print(\"Car Type:\", car1.car_type)\n",
    "\n",
    "# Calling static methods\n",
    "Car.start_car()  \n",
    "Car.end_car()"
   ]
  },
  {
   "cell_type": "code",
   "execution_count": 57,
   "id": "0b115c50-ee0c-426c-bea5-e1a6bdf59da7",
   "metadata": {},
   "outputs": [
    {
     "name": "stdout",
     "output_type": "stream",
     "text": [
      "Aditya\n",
      "Aditya\n"
     ]
    }
   ],
   "source": [
    "class Person:\n",
    "    name = \"Aadii\"\n",
    "\n",
    "    # def changename(self, name):\n",
    "    #     # Person.name = name\n",
    "    #     self.__class__.name = name\n",
    "\n",
    "    @classmethod\n",
    "    def changename(self, name):\n",
    "        self.name = name\n",
    "\n",
    "p1 = Person()\n",
    "p1.changename(\"Aditya\")\n",
    "print(p1.name)\n",
    "print(Person.name)"
   ]
  },
  {
   "cell_type": "code",
   "execution_count": 67,
   "id": "bade858a-985e-4e69-83af-178b7f4541b7",
   "metadata": {},
   "outputs": [
    {
     "name": "stdout",
     "output_type": "stream",
     "text": [
      "60.0%\n",
      "53.333333333333336%\n"
     ]
    }
   ],
   "source": [
    "class Student:\n",
    "    def __init__(self, phy, chem, math):\n",
    "        self.phy = phy\n",
    "        self.chem = chem\n",
    "        self.math = math \n",
    "\n",
    "    # def cal_percentage(self):\n",
    "    #     self.percentage = str((self.phy + self.chem + self.math) / 3) + \"%\"\n",
    "\n",
    "    @property\n",
    "    def cal_percentage(self):\n",
    "        return str((self.phy + self.chem + self.math) / 3) + \"%\" \n",
    "\n",
    "s1 = Student(90, 40, 50)\n",
    "print(s1.cal_percentage)\n",
    "# print(s1.percentage)\n",
    "s1.chem = 20\n",
    "print(s1.cal_percentage)"
   ]
  },
  {
   "cell_type": "code",
   "execution_count": null,
   "id": "bf597b99-c8bc-4790-91b3-07ad56a67b63",
   "metadata": {},
   "outputs": [],
   "source": [
    "# Polymorphism Method\n",
    "\n",
    "class ComplexNumber:\n",
    "    def __init__(self, real, imag):\n",
    "        self.real = real\n",
    "        self.imag = imag\n",
    "\n",
    "    def __add__(self, other): \n",
    "        return ComplexNumber(self.real + other.real, self.imag + other.imag)\n",
    "\n",
    "    def __str__(self):\n",
    "        return f\"{self.real} + {self.imag}i\"\n",
    "\n",
    "c1 = ComplexNumber(3, 5)\n",
    "c2 = ComplexNumber(2, 7)\n",
    "\n",
    "result = c1 + c2\n",
    "print(result)"
   ]
  },
  {
   "cell_type": "code",
   "execution_count": null,
   "id": "bcfbf3a7-7f57-43f3-bfcf-4c9b93a616fb",
   "metadata": {},
   "outputs": [
    {
     "name": "stdout",
     "output_type": "stream",
     "text": [
      "[3, 5, 6, 2, 8, 10, 8]\n",
      "2\n"
     ]
    }
   ],
   "source": [
    "ls = [3, 5, 6, 2, 8, 10, 8]\n",
    "\n",
    "max_num = ls[0]\n",
    "\n",
    "for num in ls:\n",
    "    if num < max_num:\n",
    "        max_num = num\n",
    "\n",
    "print(ls)\n",
    "print(max_num)"
   ]
  },
  {
   "cell_type": "code",
   "execution_count": null,
   "id": "cbb88bd1",
   "metadata": {},
   "outputs": [],
   "source": []
  },
  {
   "cell_type": "code",
   "execution_count": null,
   "id": "7ce68447",
   "metadata": {},
   "outputs": [],
   "source": []
  },
  {
   "cell_type": "code",
   "execution_count": null,
   "id": "6c081e5e",
   "metadata": {},
   "outputs": [],
   "source": []
  },
  {
   "cell_type": "code",
   "execution_count": null,
   "id": "7cedc63b",
   "metadata": {},
   "outputs": [],
   "source": []
  },
  {
   "cell_type": "code",
   "execution_count": null,
   "id": "170700ba",
   "metadata": {},
   "outputs": [],
   "source": []
  },
  {
   "cell_type": "code",
   "execution_count": null,
   "id": "0d8f1118",
   "metadata": {},
   "outputs": [],
   "source": []
  }
 ],
 "metadata": {
  "kernelspec": {
   "display_name": "Python 3",
   "language": "python",
   "name": "python3"
  },
  "language_info": {
   "codemirror_mode": {
    "name": "ipython",
    "version": 3
   },
   "file_extension": ".py",
   "mimetype": "text/x-python",
   "name": "python",
   "nbconvert_exporter": "python",
   "pygments_lexer": "ipython3",
   "version": "3.13.2"
  }
 },
 "nbformat": 4,
 "nbformat_minor": 5
}
