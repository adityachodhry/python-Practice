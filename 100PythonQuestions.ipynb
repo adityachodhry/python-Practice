{
 "cells": [
  {
   "cell_type": "code",
   "execution_count": 1,
   "id": "e81befc5-96a2-4f77-9798-af27b23e8dcf",
   "metadata": {},
   "outputs": [
    {
     "name": "stdout",
     "output_type": "stream",
     "text": [
      "Enter First Age  10\n",
      "Enter Second Age  10\n",
      "Enter Third Age  10\n"
     ]
    },
    {
     "name": "stdout",
     "output_type": "stream",
     "text": [
      "The oldest age is: 10\n"
     ]
    }
   ],
   "source": [
    "# 1. User will input (3ages).Find the oldest one\n",
    "\n",
    "age1 = int(input(\"Enter First Age \"))\n",
    "age2 = int(input(\"Enter Second Age \"))\n",
    "age3 = int(input(\"Enter Third Age \"))\n",
    "\n",
    "oldest_age = max(age1, age2, age3)\n",
    "\n",
    "print(\"The oldest age is:\", oldest_age)"
   ]
  },
  {
   "cell_type": "code",
   "execution_count": 2,
   "id": "5844d306-b414-4f72-a220-4b524dafc8e8",
   "metadata": {},
   "outputs": [
    {
     "name": "stdout",
     "output_type": "stream",
     "text": [
      "Enter temperature in Celsius:  25\n"
     ]
    },
    {
     "name": "stdout",
     "output_type": "stream",
     "text": [
      "The temperature in Fahrenheit is: 77.0°F\n"
     ]
    }
   ],
   "source": [
    "# 2. Write a program that will convert celsius value to fahrenheit\n",
    "\n",
    "celsius = float(input(\"Enter temperature in Celsius: \"))\n",
    "fahrenheit = (celsius * 9/5) + 32\n",
    "\n",
    "print(f\"The temperature in Fahrenheit is: {fahrenheit}°F\")"
   ]
  },
  {
   "cell_type": "code",
   "execution_count": 3,
   "id": "11b2db03-70e2-470e-8453-5f8bf47f818c",
   "metadata": {},
   "outputs": [
    {
     "name": "stdout",
     "output_type": "stream",
     "text": [
      "Enter first number:  10\n",
      "Enter second number:  30\n"
     ]
    },
    {
     "name": "stdout",
     "output_type": "stream",
     "text": [
      "After swapping:\n",
      "First number: 30\n",
      "Second number: 10\n"
     ]
    }
   ],
   "source": [
    "# 3. User will input (2numbers).Write a program to swap the numbers\n",
    "\n",
    "num1 = int(input(\"Enter first number: \"))\n",
    "num2 = int(input(\"Enter second number: \"))\n",
    "\n",
    "# Swapping numbers\n",
    "num1, num2 = num2, num1\n",
    "\n",
    "print(\"After swapping:\")\n",
    "print(\"First number:\", num1)\n",
    "print(\"Second number:\", num2)"
   ]
  },
  {
   "cell_type": "code",
   "execution_count": 4,
   "id": "3d8bff4a-eba5-4410-8362-d711f7c5c9fd",
   "metadata": {},
   "outputs": [
    {
     "name": "stdout",
     "output_type": "stream",
     "text": [
      "Enter first number:  25\n"
     ]
    },
    {
     "name": "stdout",
     "output_type": "stream",
     "text": [
      "Sum of the digits: 7\n"
     ]
    }
   ],
   "source": [
    "# 4. Write a program that will give you the sum of 3 digits\n",
    "\n",
    "num1 = int(input(\"Enter first number: \"))\n",
    "\n",
    "# Extracting last digit\n",
    "last_digit = num1 % 10\n",
    "\n",
    "# Extracting second last digit\n",
    "second_last_digit = (num1 // 10) % 10\n",
    "\n",
    "# Extracting first digit\n",
    "first_digit = num1 // 100\n",
    "\n",
    "# Calculating sum\n",
    "sum_of_digits = first_digit + second_last_digit + last_digit\n",
    "\n",
    "print(\"Sum of the digits:\", sum_of_digits)"
   ]
  },
  {
   "cell_type": "code",
   "execution_count": 4,
   "id": "08f9e033-66a1-4214-a778-30925858c207",
   "metadata": {},
   "outputs": [
    {
     "name": "stdout",
     "output_type": "stream",
     "text": [
      "[1, 2, 3, 4, 5, 6, 7, 8, 9, 10]\n",
      "10\n"
     ]
    }
   ],
   "source": [
    "# 5. Python program to find the maximum number in a list without using any built-in function or library:\n",
    "\n",
    "ls =[1,2,3,4,5,6,7,8,9,10]\n",
    "\n",
    "max_num = ls[0]\n",
    "\n",
    "for num in ls:\n",
    "    if num > max_num:\n",
    "        max_num = num\n",
    "print(ls)\n",
    "print(max_num)"
   ]
  },
  {
   "cell_type": "code",
   "execution_count": null,
   "id": "6050d052-b63b-41f0-9787-4589bc68389d",
   "metadata": {},
   "outputs": [],
   "source": []
  },
  {
   "cell_type": "code",
   "execution_count": null,
   "id": "fc3221b0-ba69-4198-973d-5303a6708868",
   "metadata": {},
   "outputs": [],
   "source": []
  },
  {
   "cell_type": "code",
   "execution_count": null,
   "id": "d2c332db",
   "metadata": {},
   "outputs": [],
   "source": []
  }
 ],
 "metadata": {
  "kernelspec": {
   "display_name": "Python 3 (ipykernel)",
   "language": "python",
   "name": "python3"
  },
  "language_info": {
   "codemirror_mode": {
    "name": "ipython",
    "version": 3
   },
   "file_extension": ".py",
   "mimetype": "text/x-python",
   "name": "python",
   "nbconvert_exporter": "python",
   "pygments_lexer": "ipython3",
   "version": "3.13.1"
  }
 },
 "nbformat": 4,
 "nbformat_minor": 5
}
