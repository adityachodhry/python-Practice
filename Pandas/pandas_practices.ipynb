{
 "cells": [
  {
   "cell_type": "code",
   "execution_count": null,
   "id": "0e51fdd3-fec7-4a65-b39a-24de156b652f",
   "metadata": {},
   "outputs": [],
   "source": []
  }
 ],
 "metadata": {
  "kernelspec": {
   "display_name": "",
   "name": ""
  },
  "language_info": {
   "name": ""
  }
 },
 "nbformat": 4,
 "nbformat_minor": 5
}
